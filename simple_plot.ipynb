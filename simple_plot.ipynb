{
 "cells": [
  {
   "cell_type": "markdown",
   "id": "bd5dcf62",
   "metadata": {},
   "source": [
    "# Make a plot\n",
    "\n",
    "Using [example](https://servicex-frontend.readthedocs.io/en/latest/examples.html) from documentation."
   ]
  },
  {
   "cell_type": "code",
   "execution_count": 1,
   "id": "7d1828ce",
   "metadata": {},
   "outputs": [
    {
     "data": {
      "application/vnd.jupyter.widget-view+json": {
       "model_id": "eae60ecae25147efbe83e1f7adc63092",
       "version_major": 2,
       "version_minor": 0
      },
      "text/plain": [
       "Output()"
      ]
     },
     "metadata": {},
     "output_type": "display_data"
    },
    {
     "data": {
      "text/html": [
       "<pre style=\"white-space:pre;overflow-x:auto;line-height:normal;font-family:Menlo,'DejaVu Sans Mono',consolas,'Courier New',monospace\"></pre>\n"
      ],
      "text/plain": []
     },
     "metadata": {},
     "output_type": "display_data"
    }
   ],
   "source": [
    "from servicex import deliver, dataset\n",
    "from func_adl_servicex_xaodr22 import FuncADLQueryPHYSLITE, cpp_float\n",
    "\n",
    "\n",
    "query = FuncADLQueryPHYSLITE()  # type: ignore\n",
    "jets_per_event = query.Select(lambda e: e.Jets(\"AnalysisJets\"))\n",
    "jet_info_per_event = jets_per_event.Select(\n",
    "    lambda jets: {\n",
    "        \"pt\": jets.Select(lambda j: j.pt()),\n",
    "        \"eta\": jets.Select(lambda j: j.eta()),\n",
    "        \"emf\": jets.Select(lambda j: j.getAttribute[cpp_float](\"EMFrac\")),  # type: ignore\n",
    "    }\n",
    ")\n",
    "\n",
    "spec = {\n",
    "    \"Sample\": [\n",
    "        {\n",
    "            \"Name\": \"func_adl_xAOD_simple\",\n",
    "            \"Dataset\": dataset.FileList(\n",
    "                [\n",
    "                    \"root://eospublic.cern.ch//eos/opendata/atlas/rucio/mc20_13TeV/DAOD_PHYSLITE.37622528._000013.pool.root.1\",  # noqa: E501\n",
    "                ]\n",
    "            ),\n",
    "            \"Query\": jet_info_per_event,\n",
    "            \"Codegen\": \"atlasr22\",\n",
    "        }\n",
    "    ]\n",
    "}\n",
    "files = deliver(spec)"
   ]
  },
  {
   "cell_type": "code",
   "execution_count": 9,
   "id": "7d0859f3",
   "metadata": {},
   "outputs": [
    {
     "data": {
      "image/png": "[encoded data removed]",
      "text/plain": [
       "<Figure size 640x480 with 1 Axes>"
      ]
     },
     "metadata": {},
     "output_type": "display_data"
    }
   ],
   "source": [
    "from servicex_analysis_utils import to_awk\n",
    "import awkward as ak\n",
    "\n",
    "data = to_awk(files)\n",
    "\n",
    "import matplotlib.pyplot as plt\n",
    "\n",
    "# Flatten the pt arrays from all events\n",
    "pt_values = ak.flatten(data[\"func_adl_xAOD_simple\"].pt/1000)\n",
    "\n",
    "plt.hist(pt_values, bins=50, histtype=\"step\", label=\"Jet $p_T$\", range=(0, 100))\n",
    "plt.xlabel(\"Jet $p_T$ [GeV]\")\n",
    "plt.ylabel(\"Entries\")\n",
    "plt.title(\"Jet $p_T$ Distribution\")\n",
    "plt.legend()\n",
    "plt.show()"
   ]
  },
  {
   "cell_type": "code",
   "execution_count": null,
   "id": "5959962c",
   "metadata": {},
   "outputs": [],
   "source": []
  }
 ],
 "metadata": {
  "kernelspec": {
   "display_name": ".venv",
   "language": "python",
   "name": "python3"
  },
  "language_info": {
   "codemirror_mode": {
    "name": "ipython",
    "version": 3
   },
   "file_extension": ".py",
   "mimetype": "text/x-python",
   "name": "python",
   "nbconvert_exporter": "python",
   "pygments_lexer": "ipython3",
   "version": "3.13.3"
  }
 },
 "nbformat": 4,
 "nbformat_minor": 5
}
